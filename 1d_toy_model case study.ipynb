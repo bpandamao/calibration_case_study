{
 "cells": [
  {
   "cell_type": "markdown",
   "metadata": {},
   "source": [
    "### Case study for 1d toy model\n",
    "\n",
    "This is a case study for a toy model that describes a chirping waveform\n",
    "\n",
    "$h(t;a,f,\\dot{f},\\epsilon) = a \\sin (2\\pi t[f + \\dot{f}t](1 - \\epsilon))$\n",
    "\n",
    "Here $\\epsilon \\ll 1$ is used as a tuneable parameter allowing deviations from an exact model $h_{\\text{e}}(t;\\boldsymbol{\\theta},\\epsilon = 0)$ given by an approximate model $h_{\\text{m}}(t;\\boldsymbol{\\theta}, \\epsilon \\neq 0)$. We only consider a single data stream and use the approximate lisa-like PSD.\n",
    "\n",
    "Set $\\epsilon = 10^{-6}$ as the approximate waveform model $h_{\\text{m}}$ while $\\epsilon = 0$ for the exact waveform model $h_{\\text{e}}$.\n",
    "\n",
    "Firstly we treat $\\dot{f}$ as an unknown parameter and set the rest at the default values. So this is a 1d parameter inference problem.\n",
    "\n",
    "| parameter | default_value | prior_distribution | prior_range|\n",
    "|-----------|------------|--------------------|------------|\n",
    "| $\\dot{f}$ | $10^{-8}$  | uniform|$10^{-13}$|\n",
    "| $a$ | $5\\cdot 10^{-21}$  |-|-|\n",
    "| $f$ | $10^{-3}$  | -|-|"
   ]
  },
  {
   "cell_type": "markdown",
   "metadata": {},
   "source": [
    "#### generate the training dataset\n",
    "\n",
    "To obtain the estimator, we need to have training set $\\{d_{j}, c_{j}, \\alpha_{j}\\}$.\n",
    "1. $\\alpha_{j}$ is the nominal level; samples from $p(\\alpha)$ (uniform defaulted)\n",
    "\n",
    "2. $d_{j}$ is the data stream that contains the noise \n",
    "    1. samples from $p(d|\\theta)$, $\\theta_{j}$ are samples from the prior distribution $p(\\theta)$\n",
    "    2. the noise was considered when getting the $d_{j}$, i.e. $d_{j}=h(\\theta_{j})+noise$\n",
    "\n",
    "3. $c_{j}$ is the indicator of whether the Bayesian credible set approximation contains the $\\theta_{j}$\n",
    "\n",
    "#### Following is the process of generating 5000 samples and the test signal d_{o}"
   ]
  },
  {
   "cell_type": "code",
   "execution_count": 1,
   "metadata": {},
   "outputs": [
    {
     "name": "stderr",
     "output_type": "stream",
     "text": [
      "100%|██████████| 5000/5000 [03:28<00:00, 23.97it/s]\n"
     ]
    },
    {
     "name": "stdout",
     "output_type": "stream",
     "text": [
      "0.7122\n"
     ]
    }
   ],
   "source": [
    "import matplotlib.pyplot as plt\n",
    "import numpy as np\n",
    "from scipy.stats import norm\n",
    "from tqdm import tqdm\n",
    "\n",
    "from LISA_utils import PowerSpectralDensity, FFT, freq_PSD, inner_prod, waveform\n",
    "\n",
    "\n",
    "def deriv_waveform(fdot,t,phi,eps):\n",
    "    \"\"\"\n",
    "    This is a function. It takes in a value of the amplitude $a$, frequency $f$ and frequency derivative $\\dot{f}\n",
    "    and a time vector $t$ and spits out whatever is in the return function. Modify amplitude to improve SNR. \n",
    "    Modify frequency range to also affect SNR but also to see if frequencies of the signal are important \n",
    "    for the windowing method. We aim to estimate the parameters $a$, $f$ and $\\dot{f}$.\n",
    "    \"\"\"\n",
    "    a = 5e-21\n",
    "    f = 1e-3\n",
    "\n",
    "    return (a *(np.sin(((2*np.pi)*(f*t + 0.5*fdot * t**2)*(1-eps) + phi))))\n",
    "\n",
    "def Gaussian(values,mean,std):\n",
    "    return np.exp(-(values - mean)**2 / (2*std**2))\n",
    "\n",
    "\n",
    "def llike(fdot,t, data_f, variance_noise_f,eps):\n",
    "    \"\"\"\n",
    "    Computes log likelihood \n",
    "    Assumption: Known PSD otherwise need additional term\n",
    "    Inputs:\n",
    "    data in frequency domain \n",
    "    Proposed signal in frequency domain\n",
    "    Variance of noise\n",
    "    \"\"\"\n",
    "\n",
    "    signal_prop_t = waveform(fdot,t,eps)\n",
    "    signal_prop_f = FFT(signal_prop_t)\n",
    "\n",
    "    inn_prod = sum((abs(data_f - signal_prop_f)**2) / variance_noise_f)\n",
    "\n",
    "    return(-0.5 * inn_prod)\n",
    "\n",
    "\n",
    "prior_sample_num=5000\n",
    "prior_range=1e-13\n",
    "fdot_true=1e-8\n",
    "eps_true=1e-6\n",
    "\n",
    "tmax =  120*60*60                 # Final time\n",
    "fs = 2*1e-3                     # Sampling rate\n",
    "delta_t = np.floor(0.01/fs)       # Sampling interval\n",
    "t = np.arange(0,tmax,delta_t)     # Form time vector from t0 = 0 to t_{n-1} = tmax. Length N [include zero]\n",
    "   \n",
    "h_true_t = waveform(fdot_true,t,0)\n",
    "h_true_f = FFT(h_true_t) \n",
    "# the test signal d_{o} is without noise\n",
    "data_f = h_true_f          # Construct data stream d_{o}\n",
    "\n",
    "y_sample=np.zeros((prior_sample_num+1,len(data_f)))\n",
    "y_sample[0]=data_f.real\n",
    "c=np.zeros(prior_sample_num)\n",
    "nominal_l=np.zeros(prior_sample_num)\n",
    "\n",
    "for s in tqdm(range(prior_sample_num)):\n",
    "    \n",
    "    np.random.seed(s*2023)\n",
    "    # 2.A\n",
    "    # generate fdot_prior\n",
    "    fdot_prior_sample = np.random.uniform(1e-8-prior_range,1e-8+prior_range)  \n",
    "    true_params = fdot_prior_sample\n",
    "\n",
    "    tmax =  120*60*60                 # Final time\n",
    "    fs = 2*1e-3                     # Sampling rate\n",
    "    delta_t = np.floor(0.01/fs)       # Sampling interval\n",
    "\n",
    "    t = np.arange(0,tmax,delta_t)     # Form time vector from t0 = 0 to t_{n-1} = tmax. Length N [include zero]\n",
    "\n",
    "    N_t = int(2**(np.ceil(np.log2(len(t)))))   # Round length of time series to a power of two. \n",
    "                                            \n",
    "    h_true_t = waveform(true_params,t,0)\n",
    "\n",
    "    h_true_f = FFT(h_true_t)         # Compute true signal in frequency domain\n",
    "\n",
    "    freq,PSD = freq_PSD(t,delta_t)  # Extract frequency bins and PSD.\n",
    "\n",
    "    # SNR2 = inner_prod(h_true_f,h_true_f,PSD,delta_t,N_t)    # Compute optimal matched filtering SNR\n",
    "    # print(\"SNR of source\",np.sqrt(SNR2))\n",
    "    variance_noise_f = N_t * PSD / (4 * delta_t)            # Calculate variance of noise, real and imaginary.\n",
    "    N_f = len(variance_noise_f)                             # Length of signal in frequency domain\n",
    "\n",
    "    # Generate frequency domain noise\n",
    "    noise_f = np.random.normal(0,np.sqrt(variance_noise_f),N_f) + 1j*np.random.normal(0,np.sqrt(variance_noise_f),N_f) \n",
    "    \n",
    "    # get the 2.A: samples of from 𝑝(𝑑|𝜃)\n",
    "    data_f = h_true_f + noise_f         # Construct data stream for d_{j}\n",
    "    \n",
    "    y_sample[s+1]=data_f.real # only consider the real part\n",
    "    \n",
    "    # Fisher Matrix computation\n",
    "    exact_deriv_fdot_est = (0.5) * (2*np.pi * t**2)*(1-eps_true) * deriv_waveform(true_params,t, np.pi/2,eps_true)\n",
    "    deriv_fdot_fft_est = FFT(exact_deriv_fdot_est)\n",
    "    deriv_vec_est = deriv_fdot_fft_est\n",
    "    Fisher_Matrix_est = inner_prod(deriv_vec_est,deriv_vec_est,PSD,delta_t,N_t)\n",
    "    Cov_Matrix_est = 1/Fisher_Matrix_est\n",
    "    precision_est = np.sqrt(Cov_Matrix_est)\n",
    "\n",
    "    #===================== COMPUTE FORECAST BIAS ========================\n",
    "    h_approx_t = waveform(true_params,t, eps_true)    # Compute approximate waveform model \n",
    "    h_approx_f = FFT(h_approx_t)                      # Compute approximate model frequency domain\n",
    "    residuals_f = h_true_f - h_approx_f+noise_f\n",
    "\n",
    "    biass = inner_prod(deriv_vec_est,residuals_f,PSD,delta_t,N_t)\n",
    "    bias_para = biass/Fisher_Matrix_est    # Compute bias\n",
    "    \n",
    "    # 1 samples from  𝑝(𝛼)\n",
    "    nominal=np.random.uniform(0.78,0.97)  \n",
    "    nominal_l[s]=nominal\n",
    "\n",
    "    # calucate c_{j}: whether the approximate Bayesian credible set contains the \\theta_{j}\n",
    "    if np.abs(bias_para)<=norm.ppf(1-(1-nominal)/2)*precision_est:\n",
    "        c[s]=1\n",
    "\n",
    "np.save(\"./c_samples.npy\",c)\n",
    "np.save(\"./y_samples.npy\",y_sample)\n",
    "np.save(\"./nominal_samples.npy\",nominal_l)\n",
    "print(np.mean(c))\n",
    "# print(nominal_l.shape)\n",
    "# print(y_sample.shape)"
   ]
  },
  {
   "cell_type": "markdown",
   "metadata": {},
   "source": [
    "### The data is ready, then train the model\n",
    "\n",
    "#### dimension reduction\n",
    "Here, we used tensorflow to build a autoencoder to make dimension reduction since the dimension of predictor is higher than a sample size, and the high dimension of the signals lead to the unbalanced information between nominal level and signals in input space."
   ]
  },
  {
   "cell_type": "code",
   "execution_count": 2,
   "metadata": {},
   "outputs": [
    {
     "name": "stdout",
     "output_type": "stream",
     "text": [
      "the dimension of the signal 65536 is much larger than samplesize 5000\n"
     ]
    }
   ],
   "source": [
    "import tensorflow as tf\n",
    "tf.random.set_seed(123)\n",
    "from tensorflow import keras\n",
    "from keras.layers import Dense\n",
    "from keras import Input, Model, regularizers,optimizers\n",
    "import numpy as np\n",
    "import matplotlib.pyplot as plt\n",
    "from sklearn.preprocessing import StandardScaler\n",
    "\n",
    "# normalization\n",
    "scaler0 =StandardScaler()\n",
    "\n",
    "y_sample=np.load(\"./y_samples.npy\")\n",
    "y_sample_s=scaler0.fit_transform(y_sample[1:])\n",
    "\n",
    "# test signal d_{o}\n",
    "yo=scaler0.transform(y_sample[0].reshape(1,-1))\n",
    "# train signal d\n",
    "ys=y_sample_s\n",
    "\n",
    "print(\"the dimension of the signal\",ys.shape[1],\"is much larger than samplesize\",ys.shape[0])\n"
   ]
  },
  {
   "cell_type": "markdown",
   "metadata": {},
   "source": [
    "#### build the autoencoder with activation of tanh and relu\n",
    "`tanh` is a smooth activation function and can deal with negative values, so we used it in the first layer of encoder. Since `relu` is more simple, so it was used in the remaining layers. Regulations were used to reduce overfitting in the first and second layers of encoder."
   ]
  },
  {
   "cell_type": "code",
   "execution_count": 3,
   "metadata": {},
   "outputs": [
    {
     "name": "stdout",
     "output_type": "stream",
     "text": [
      "Model: \"model\"\n",
      "_________________________________________________________________\n",
      "Layer (type)                 Output Shape              Param #   \n",
      "=================================================================\n",
      "input_1 (InputLayer)         [(None, 65536)]           0         \n",
      "_________________________________________________________________\n",
      "dense (Dense)                (None, 2048)              134219776 \n",
      "_________________________________________________________________\n",
      "dense_1 (Dense)              (None, 512)               1049088   \n",
      "_________________________________________________________________\n",
      "dense_2 (Dense)              (None, 64)                32832     \n",
      "_________________________________________________________________\n",
      "dense_3 (Dense)              (None, 8)                 520       \n",
      "_________________________________________________________________\n",
      "dense_4 (Dense)              (None, 64)                576       \n",
      "_________________________________________________________________\n",
      "dense_5 (Dense)              (None, 512)               33280     \n",
      "_________________________________________________________________\n",
      "dense_6 (Dense)              (None, 2048)              1050624   \n",
      "_________________________________________________________________\n",
      "dense_7 (Dense)              (None, 65536)             134283264 \n",
      "=================================================================\n",
      "Total params: 270,669,960\n",
      "Trainable params: 270,669,960\n",
      "Non-trainable params: 0\n",
      "_________________________________________________________________\n"
     ]
    }
   ],
   "source": [
    "# Building the Input Layer\n",
    "input_layer= Input(shape=(65536,))\n",
    "\n",
    "# encoded representation of input\n",
    "encoded1 = Dense(2048, activation='tanh',activity_regularizer=regularizers.l1(10e-5))(input_layer)\n",
    "encoded2 = Dense(512, activation='relu',activity_regularizer=regularizers.l1(10e-5))(encoded1)\n",
    "encoded3 = Dense(64, activation='relu')(encoded2)\n",
    "encoded = Dense(8, activation='relu')(encoded3)\n",
    "\n",
    "\n",
    "# decoded representation of code \n",
    "decoded3 = Dense(64, activation='relu')(encoded)\n",
    "decoded2 = Dense(512, activation='relu')(decoded3)\n",
    "decoded1 = Dense(2048, activation='relu')(decoded2)\n",
    "decoded = Dense(65536, activation='relu')(decoded1)\n",
    "# Model which take input image and shows decoded images\n",
    "autoencoder = Model(input_layer, decoded)\n",
    "\n",
    "autoencoder.summary()"
   ]
  },
  {
   "cell_type": "markdown",
   "metadata": {},
   "source": [
    "With larger dataset, `Adam` is more efficient and can combine the benefit of other two optimaizers: `AdaGrad` and `RMSprop`, which was used here."
   ]
  },
  {
   "cell_type": "code",
   "execution_count": 4,
   "metadata": {},
   "outputs": [
    {
     "name": "stdout",
     "output_type": "stream",
     "text": [
      "Epoch 1/5\n",
      "48/48 [==============================] - 30s 484ms/step - loss: 1.1531 - val_loss: 1.1532\n",
      "Epoch 2/5\n",
      "48/48 [==============================] - 22s 454ms/step - loss: 1.1420 - val_loss: 1.1552\n",
      "Epoch 3/5\n",
      "48/48 [==============================] - 22s 455ms/step - loss: 1.1323 - val_loss: 1.1640\n",
      "Epoch 4/5\n",
      "48/48 [==============================] - 22s 461ms/step - loss: 1.1242 - val_loss: 1.1856\n",
      "Epoch 5/5\n",
      "48/48 [==============================] - 22s 456ms/step - loss: 1.1172 - val_loss: 1.2192\n"
     ]
    },
    {
     "data": {
      "text/plain": [
       "<keras.callbacks.History at 0x7fe0eea85a90>"
      ]
     },
     "execution_count": 4,
     "metadata": {},
     "output_type": "execute_result"
    }
   ],
   "source": [
    "#This model shows encoded signals\n",
    "encoder = Model(input_layer, encoded)\n",
    "# Creating a decoder model\n",
    "encoded_input = Input(shape=(8,))\n",
    "# last layer of the autoencoder model\n",
    "decoder_layer = autoencoder.layers[-4]\n",
    "# decoder model\n",
    "decoder = Model(encoded_input, decoder_layer(encoded_input))\n",
    "#optimizer\n",
    "opt = keras.optimizers.Adam(learning_rate=0.0001)\n",
    "\n",
    "autoencoder.compile(optimizer=opt, loss='mse')\n",
    "\n",
    "autoencoder.fit(ys, ys,\n",
    "                epochs=5,\n",
    "                batch_size=100,\n",
    "                validation_split=0.05)"
   ]
  },
  {
   "cell_type": "code",
   "execution_count": 5,
   "metadata": {},
   "outputs": [],
   "source": [
    "# encoding the sample signal ys and test signal yo\n",
    "encoded_ys = encoder.predict(ys)\n",
    "encoded_yo = encoder.predict(yo)"
   ]
  },
  {
   "cell_type": "markdown",
   "metadata": {},
   "source": [
    "#### Adding nominal level as an input"
   ]
  },
  {
   "cell_type": "code",
   "execution_count": 25,
   "metadata": {},
   "outputs": [],
   "source": [
    "nominal_sample=np.load(\"./nominal_samples.npy\")\n",
    "# set test nominal level at 80%,85%,90%,95%\n",
    "nominalo=np.array(np.arange(0.80,1,0.05))\n",
    "\n",
    "# trainset build\n",
    "encoded_yo_total = np.repeat(encoded_yo,4,axis=0)\n",
    "\n",
    "scaler =StandardScaler() #normalization\n",
    "\n",
    "y_sample=np.concatenate((nominal_sample.reshape(-1,1), encoded_ys),axis=1) \n",
    "ys_encoder_s=scaler.fit_transform(y_sample)\n",
    "\n",
    "# test signal\n",
    "y_acc0=np.concatenate((nominalo.reshape(-1,1),encoded_yo_total),axis=1)\n",
    "yo_encoder_s=scaler.transform(y_acc0) #noramlization"
   ]
  },
  {
   "cell_type": "markdown",
   "metadata": {},
   "source": [
    "#### Adding training output $c_{j}$"
   ]
  },
  {
   "cell_type": "code",
   "execution_count": 26,
   "metadata": {},
   "outputs": [],
   "source": [
    "c=np.load(\"./c_samples.npy\")"
   ]
  },
  {
   "cell_type": "markdown",
   "metadata": {},
   "source": [
    "### Classifier training\n",
    "To make it simple, we used one-layer neural network with a sigmoid activation function here, actually, a logistic classifier."
   ]
  },
  {
   "cell_type": "code",
   "execution_count": 27,
   "metadata": {},
   "outputs": [
    {
     "data": {
      "text/plain": [
       "array([[0.43093283, 0.56906717],\n",
       "       [0.33643448, 0.66356552],\n",
       "       [0.25342992, 0.74657008],\n",
       "       [0.18518887, 0.81481113]])"
      ]
     },
     "execution_count": 27,
     "metadata": {},
     "output_type": "execute_result"
    }
   ],
   "source": [
    "# using sklearn to train classifier directly\n",
    "from sklearn.linear_model import LogisticRegression\n",
    "from sklearn.model_selection import cross_validate\n",
    "\n",
    "clf = LogisticRegression().fit(ys_encoder_s, c)\n",
    "\n",
    "### the realised operational coverage estimation for test signal with 80%,85%,90%,95% nominal levels\n",
    "clf.predict_proba(yo_encoder_s)"
   ]
  },
  {
   "cell_type": "markdown",
   "metadata": {},
   "source": [
    "#### another way to do logistic and ouput the estimation interval"
   ]
  },
  {
   "cell_type": "code",
   "execution_count": 11,
   "metadata": {},
   "outputs": [
    {
     "name": "stdout",
     "output_type": "stream",
     "text": [
      "Optimization terminated successfully.\n",
      "         Current function value: 0.579902\n",
      "         Iterations 5\n",
      "[0.56891097 0.66352024 0.74661384 0.81491151]\n",
      "[0.59639065 0.68228916 0.76396407 0.8343365 ]\n",
      "[0.54143129 0.64475133 0.7292636  0.79548652]\n"
     ]
    }
   ],
   "source": [
    "import statsmodels.api as sm\n",
    "X=sm.add_constant(ys_encoder_s)\n",
    "cons=np.repeat(1.0,4)\n",
    "Xo=np.concatenate((cons.reshape(-1,1),yo_encoder_s),axis=1)\n",
    "# estimate the model\n",
    "model = sm.Logit(c, X).fit()\n",
    "\n",
    "proba=model.predict(Xo)\n",
    "print(proba)\n",
    "\n",
    "# estimation interval\n",
    "cov = model.cov_params()\n",
    "gradient = (proba * (1 - proba) * Xo.T).T # matrix of gradients for each observation\n",
    "std_errors = np.array([np.sqrt(np.dot(np.dot(g, cov), g)) for g in gradient])\n",
    "c = 1.96 # multiplier for confidence interval\n",
    "upper = np.maximum(0, np.minimum(1, proba + std_errors * c))\n",
    "lower = np.maximum(0, np.minimum(1, proba - std_errors * c))\n",
    "\n",
    "print(upper)\n",
    "print(lower)"
   ]
  },
  {
   "cell_type": "markdown",
   "metadata": {},
   "source": [
    "### So the operational coverage estimation for test signals $d_{o}$ obtained\n",
    "\n",
    "### Then how to get the realised operational coverage estimation?\n",
    "\n",
    "For the test signal $d_{o}$:\n",
    "1. Based on the MCMC, obtain the exact posterior samples $p(\\boldsymbol{\\theta}|d_o)$ and approximate credible intervals $\\widehat{C}_{d_o}$\n",
    "2. The realised operational coverage probability can be estimated by calculating the proportion of the samples that are inside credible intervals $\\widehat{C}_{d_o}$."
   ]
  },
  {
   "cell_type": "code",
   "execution_count": 40,
   "metadata": {},
   "outputs": [
    {
     "data": {
      "text/plain": [
       "array([0.5955, 0.651 , 0.731 , 0.8165])"
      ]
     },
     "execution_count": 40,
     "metadata": {},
     "output_type": "execute_result"
    }
   ],
   "source": [
    "import numpy as np\n",
    "from LISA_utils import FFT, freq_PSD, inner_prod, waveform\n",
    "from mcmc_fun_fdot import MCMC_run\n",
    "\n",
    "np.random.seed(321)\n",
    "\n",
    "# Set true parameter. we want to estimate it using MCMC\n",
    "fdot_true = 1e-8\n",
    "\n",
    "# basic settings\n",
    "tmax =  120*60*60                 # Final time\n",
    "fs = 2*1e-3                       # Sampling rate\n",
    "delta_t = np.floor(0.01/fs)       # Sampling interval \n",
    "t = np.arange(0,tmax,delta_t)     # Form time vector from t0 = 0 to t_{n-1} = tmax. Length N [include zero]\n",
    "N_t = int(2**(np.ceil(np.log2(len(t)))))   # Round length of time series to a power of two \n",
    "                                           # Length of time series\n",
    "# generate signal\n",
    "h_true_f = FFT(waveform(fdot_true,t))  # Compute true signal in frequency domain\n",
    "\n",
    "freq,PSD = freq_PSD(t,delta_t)  # Extract frequency bins and PSD.\n",
    "\n",
    "# SNR2 = inner_prod(h_true_f,h_true_f,PSD,delta_t,N_t)    # Compute optimal matched filtering SNR\n",
    "# print(\"SNR of source\",np.sqrt(SNR2))\n",
    "\n",
    "data_f = h_true_f    # Construct data stream d_{o}, test signal without noise\n",
    "\n",
    "# This is the inputs d_{j}\n",
    "data_y = data_f.real # only use real parts\n",
    "                    \n",
    "\n",
    "# To compute \n",
    "\n",
    "# MCMC - parameter estimation\n",
    "\n",
    "Ntotal = 21000  # Total number of iterations\n",
    "burnin = 1000   # Set burn-in. This is the amount of samples we will discard whilst looking \n",
    "            # for the true parameters\n",
    "\n",
    "variance_noise_f = N_t * PSD / (4 * delta_t)\n",
    "\n",
    "delta_dotf = np.sqrt(1.007508992696005e-27)\n",
    "\n",
    "fdot_start = fdot_true - 250*delta_dotf  # Starting values\n",
    "\n",
    "fdot_chain,lp  = MCMC_run(data_f,t,0,variance_noise_f,\n",
    "                            Ntotal, burnin, fdot_start,\n",
    "                            printerval = 5000, save_interval = 50, \n",
    "                            fdot_var_prop = delta_dotf**2) \n",
    "\n",
    "fdot_chain_est,lp_est  = MCMC_run(data_f,t,1e-6, variance_noise_f,\n",
    "                            Ntotal, burnin, fdot_start,\n",
    "                            printerval = 5000, save_interval = 50, \n",
    "                            fdot_var_prop = delta_dotf**2)\n",
    "\n",
    "\n",
    "\n",
    "sample1=fdot_chain_est[burnin::10]\n",
    "sample0=fdot_chain[burnin::10]\n",
    "\n",
    "# calculate the proportion\n",
    "# hard code is not good\n",
    "a95=0\n",
    "a90=0\n",
    "a85=0\n",
    "a80=0\n",
    "n=0\n",
    "for i in range(sample0.shape[0]):\n",
    "    n=n+1\n",
    "    if sample0[i]>=np.percentile(sample1,[2.5,97.5])[0] and sample0[i]<=np.percentile(sample1,[2.5,97.5])[1]:\n",
    "        a95=a95+1\n",
    "    if sample0[i]>=np.percentile(sample1,[5,95])[0] and sample0[i]<=np.percentile(sample1,[5,95])[1]:\n",
    "        a90=a90+1\n",
    "    if sample0[i]>=np.percentile(sample1,[7.5,92.5])[0] and sample0[i]<=np.percentile(sample1,[7.5,92.5])[1]:\n",
    "        a85=a85+1\n",
    "    if sample0[i]>=np.percentile(sample1,[10,90])[0] and sample0[i]<=np.percentile(sample1,[10,90])[1]:\n",
    "        a80=a80+1\n",
    "exact_ratio=np.array([a80,a85,a90,a95])/n\n",
    "\n",
    "exact_ratio\n"
   ]
  },
  {
   "cell_type": "markdown",
   "metadata": {},
   "source": [
    "### The evaluation at the test signal $d_{o}$"
   ]
  },
  {
   "cell_type": "code",
   "execution_count": 45,
   "metadata": {},
   "outputs": [
    {
     "data": {
      "text/plain": [
       "([<matplotlib.axis.XTick at 0x7fe2177594e0>,\n",
       "  <matplotlib.axis.XTick at 0x7fe2177590b8>,\n",
       "  <matplotlib.axis.XTick at 0x7fe21769dcf8>,\n",
       "  <matplotlib.axis.XTick at 0x7fe217678518>],\n",
       " [Text(0, 0, ''), Text(0, 0, ''), Text(0, 0, ''), Text(0, 0, '')])"
      ]
     },
     "execution_count": 45,
     "metadata": {},
     "output_type": "execute_result"
    },
    {
     "data": {
      "image/png": "[encoded data removed]",
      "text/plain": [
       "<Figure size 576x360 with 1 Axes>"
      ]
     },
     "metadata": {
      "needs_background": "light"
     },
     "output_type": "display_data"
    }
   ],
   "source": [
    "result=np.zeros((4,5))\n",
    "result[:,0]=nominalo\n",
    "result[:,1]=proba\n",
    "result[:,2]=upper\n",
    "result[:,3]=lower\n",
    "result[:,4]=exact_ratio\n",
    "\n",
    "import pandas as pd\n",
    "\n",
    "df_yo = pd.DataFrame(result, columns = ['nominal','predict_coverage','upper','lower','realised'])\n",
    "\n",
    "plt.rcParams[\"figure.figsize\"] = (8,5)\n",
    "df_yo.plot(x=\"nominal\",style=['s-','o-','^-',\"--\"])\n",
    "plt.ylabel('practical operational coverage',fontsize=14)\n",
    "plt.xlabel(r\"$\\alpha$\",fontsize=14)\n",
    "plt.xticks([0.80,0.85,0.90,0.95])"
   ]
  },
  {
   "cell_type": "markdown",
   "metadata": {},
   "source": [
    "## build the calibration curve\n",
    "It is easy to obtain an inverse function of the logistic regression, using `logit` function"
   ]
  },
  {
   "cell_type": "code",
   "execution_count": 28,
   "metadata": {},
   "outputs": [
    {
     "data": {
      "image/png": "[encoded data removed]",
      "text/plain": [
       "<Figure size 432x360 with 1 Axes>"
      ]
     },
     "metadata": {
      "needs_background": "light"
     },
     "output_type": "display_data"
    }
   ],
   "source": [
    "# inverse map ,take yo for example\n",
    "def logit(p):\n",
    "    return np.log(p / (1 - p))\n",
    "\n",
    "def inverse_map(target):\n",
    "    f=(logit(target)-np.dot(clf.coef_[:,1:],yo_encoder_s[1,1:])-clf.intercept_)/clf.coef_[:,0]\n",
    "    x_vec=np.zeros(yo_encoder_s.shape[1])\n",
    "    x_vec[0]=f\n",
    "    X_vec=scaler.inverse_transform(x_vec)\n",
    "    nominal=X_vec[0]\n",
    "    return nominal\n",
    "\n",
    "# the desired nominal level\n",
    "ix=np.arange(0.56,0.84,0.01)\n",
    "# the correct nominal level\n",
    "iy=[inverse_map(ix[i]) for i in range(len(ix))]\n",
    "\n",
    "plt.rcParams[\"figure.figsize\"] = (6,5)\n",
    "plt.plot(ix,iy)\n",
    "# plt.title('nominal levels estimation',fontsize=20)\n",
    "plt.xlabel(\"operational coverage\",fontsize=14)\n",
    "plt.ylabel(\"nominal level\",fontsize=14)\n",
    "\n",
    "plt.show()"
   ]
  },
  {
   "cell_type": "markdown",
   "metadata": {},
   "source": [
    "### display the calibrated region\n",
    "\n",
    "take desired nominal level at 0.8"
   ]
  },
  {
   "cell_type": "code",
   "execution_count": 29,
   "metadata": {},
   "outputs": [],
   "source": [
    "alpha_new=inverse_map(0.8)\n"
   ]
  },
  {
   "cell_type": "code",
   "execution_count": 36,
   "metadata": {},
   "outputs": [
    {
     "data": {
      "image/png": "[encoded data removed]",
      "text/plain": [
       "<Figure size 432x360 with 1 Axes>"
      ]
     },
     "metadata": {
      "needs_background": "light"
     },
     "output_type": "display_data"
    }
   ],
   "source": [
    "import numpy as np\n",
    "import matplotlib.pyplot as plt\n",
    "import seaborn as sns\n",
    "from scipy.stats import gaussian_kde\n",
    "\n",
    "samples_est = fdot_chain_est[burnin::]\n",
    "samples = fdot_chain[burnin::]\n",
    "\n",
    "lower_bound_est_new, upper_bound_est_new = np.percentile(samples_est, [(1-alpha_new)*50, (1-(1-alpha_new)/2)*100])\n",
    "lower_bound_est, upper_bound_est = np.percentile(samples_est, [10, 90])\n",
    "lower_bound, upper_bound = np.percentile(samples, [10, 90])\n",
    "\n",
    "x1 =  np.arange(lower_bound, upper_bound, 1e-15)\n",
    "kde1 = gaussian_kde(samples)\n",
    "y1 = kde1.evaluate(x1)\n",
    "\n",
    "x2 =  np.arange(lower_bound_est, upper_bound_est, 1e-15)\n",
    "kde2 = gaussian_kde(samples_est)\n",
    "y2 = kde1.evaluate(x2)\n",
    "\n",
    "x3 =  np.arange(lower_bound_est_new, upper_bound_est_new, 1e-15)\n",
    "y3 = kde1.evaluate(x3)\n",
    "\n",
    "\n",
    "# Create a kernel density estimate plot of the data\n",
    "# hard code to display the calibrated region, the yellow one is the calibrated region.\n",
    "sns.kdeplot(samples_est,c='green',label=\"approx\")\n",
    "sns.kdeplot(samples,c='purple',label=\"exact\")\n",
    "plt.fill_between(x2, y2, alpha=0.5,facecolor=\"green\")\n",
    "plt.fill_between(x3, y3, alpha=0.5,facecolor=\"yellow\")\n",
    "plt.fill_between(x1, y1, alpha=0.3,facecolor=\"pink\")\n",
    "\n",
    "\n",
    "\n",
    "plt.legend(loc='upper right')\n",
    "plt.xlabel(r'$\\dot{f}_{0}$')\n",
    "plt.ylabel(\"posterior density\")\n",
    "plt.show()"
   ]
  },
  {
   "cell_type": "code",
   "execution_count": null,
   "metadata": {},
   "outputs": [],
   "source": []
  }
 ],
 "metadata": {
  "kernelspec": {
   "display_name": "Python 3",
   "language": "python",
   "name": "python3"
  },
  "language_info": {
   "codemirror_mode": {
    "name": "ipython",
    "version": 3
   },
   "file_extension": ".py",
   "mimetype": "text/x-python",
   "name": "python",
   "nbconvert_exporter": "python",
   "pygments_lexer": "ipython3",
   "version": "3.6.9"
  }
 },
 "nbformat": 4,
 "nbformat_minor": 2
}
