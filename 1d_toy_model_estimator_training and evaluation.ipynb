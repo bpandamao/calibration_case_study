{
 "cells": [
  {
   "attachments": {},
   "cell_type": "markdown",
   "metadata": {},
   "source": [
    "### Operatioanal coverage estimator: model training\n",
    "\n",
    "First, loading the sample"
   ]
  },
  {
   "cell_type": "code",
   "execution_count": 1,
   "metadata": {},
   "outputs": [],
   "source": [
    "import numpy as np\n",
    "\n",
    "y_sample=np.load(\"./y_samples.npy\")\n",
    "c=np.load(\"./c_samples.npy\")\n",
    "nominal_sample=np.load(\"./nominal_samples.npy\")"
   ]
  },
  {
   "attachments": {},
   "cell_type": "markdown",
   "metadata": {},
   "source": [
    "#### High dimension\n",
    "After loading the data, we can find the signal has a high dimension, which is much larger thena samplesize."
   ]
  },
  {
   "cell_type": "code",
   "execution_count": 2,
   "metadata": {},
   "outputs": [
    {
     "name": "stdout",
     "output_type": "stream",
     "text": [
      "the dimension of the signal 65536 is much larger than samplesize 5000\n"
     ]
    }
   ],
   "source": [
    "import matplotlib.pyplot as plt\n",
    "from sklearn.preprocessing import StandardScaler\n",
    "\n",
    "# normalization\n",
    "scaler0 =StandardScaler()\n",
    "y_sample_s=scaler0.fit_transform(y_sample[1:])\n",
    "\n",
    "# test signal d_{o}\n",
    "yo=scaler0.transform(y_sample[0].reshape(1,-1))\n",
    "# train signal d\n",
    "ys=y_sample_s\n",
    "\n",
    "print(\"the dimension of the signal\",ys.shape[1],\"is much larger than samplesize\",ys.shape[0])\n"
   ]
  },
  {
   "attachments": {},
   "cell_type": "markdown",
   "metadata": {},
   "source": [
    "### Dimension reduction\n",
    "\n",
    "To reduce the complexity of the neural network and improve its efficiency. Here, we used  tensorflow structure to build an autoencoder to make dimension reduction since the dimension of predictor is higher than a sample size, and the high dimension of the signals lead to the unbalanced information between nominal level and signals in input space."
   ]
  },
  {
   "attachments": {},
   "cell_type": "markdown",
   "metadata": {},
   "source": [
    "#### build the autoencoder with activation of tanh and relu\n",
    "`tanh` is a smooth activation function and can deal with negative values, so we used it in the first layer of encoder. Since `relu` is more simple, so it was used in the remaining layers. Regulations were used to reduce overfitting in the first and second layers of encoder."
   ]
  },
  {
   "cell_type": "code",
   "execution_count": 3,
   "metadata": {},
   "outputs": [
    {
     "name": "stdout",
     "output_type": "stream",
     "text": [
      "Model: \"model\"\n",
      "_________________________________________________________________\n",
      "Layer (type)                 Output Shape              Param #   \n",
      "=================================================================\n",
      "input_1 (InputLayer)         [(None, 65536)]           0         \n",
      "_________________________________________________________________\n",
      "dense (Dense)                (None, 2048)              134219776 \n",
      "_________________________________________________________________\n",
      "dense_1 (Dense)              (None, 512)               1049088   \n",
      "_________________________________________________________________\n",
      "dense_2 (Dense)              (None, 64)                32832     \n",
      "_________________________________________________________________\n",
      "dense_3 (Dense)              (None, 8)                 520       \n",
      "_________________________________________________________________\n",
      "dense_4 (Dense)              (None, 64)                576       \n",
      "_________________________________________________________________\n",
      "dense_5 (Dense)              (None, 512)               33280     \n",
      "_________________________________________________________________\n",
      "dense_6 (Dense)              (None, 2048)              1050624   \n",
      "_________________________________________________________________\n",
      "dense_7 (Dense)              (None, 65536)             134283264 \n",
      "=================================================================\n",
      "Total params: 270,669,960\n",
      "Trainable params: 270,669,960\n",
      "Non-trainable params: 0\n",
      "_________________________________________________________________\n"
     ]
    }
   ],
   "source": [
    "import tensorflow as tf\n",
    "tf.random.set_seed(123)\n",
    "from tensorflow import keras\n",
    "from keras.layers import Dense\n",
    "from keras import Input, Model, regularizers,optimizers\n",
    "\n",
    "# Building the Input Layer\n",
    "input_layer= Input(shape=(65536,))\n",
    "\n",
    "# encoded representation of input\n",
    "encoded1 = Dense(2048, activation='tanh',activity_regularizer=regularizers.l1(10e-5))(input_layer)\n",
    "encoded2 = Dense(512, activation='relu',activity_regularizer=regularizers.l1(10e-5))(encoded1)\n",
    "encoded3 = Dense(64, activation='relu')(encoded2)\n",
    "encoded = Dense(8, activation='relu')(encoded3)\n",
    "\n",
    "\n",
    "# decoded representation of code \n",
    "decoded3 = Dense(64, activation='relu')(encoded)\n",
    "decoded2 = Dense(512, activation='relu')(decoded3)\n",
    "decoded1 = Dense(2048, activation='relu')(decoded2)\n",
    "decoded = Dense(65536, activation='relu')(decoded1)\n",
    "# Model which take input image and shows decoded images\n",
    "autoencoder = Model(input_layer, decoded)\n",
    "\n",
    "autoencoder.summary()"
   ]
  },
  {
   "attachments": {},
   "cell_type": "markdown",
   "metadata": {},
   "source": [
    "With larger dataset, `Adam` is more efficient and can combine the benefit of other two optimaizers: `AdaGrad` and `RMSprop`, which was used here."
   ]
  },
  {
   "cell_type": "code",
   "execution_count": 4,
   "metadata": {},
   "outputs": [
    {
     "name": "stdout",
     "output_type": "stream",
     "text": [
      "Epoch 1/3\n",
      "48/48 [==============================] - 23s 440ms/step - loss: 1.1531 - val_loss: 1.1532\n",
      "Epoch 2/3\n",
      "48/48 [==============================] - 20s 425ms/step - loss: 1.1420 - val_loss: 1.1552\n",
      "Epoch 3/3\n",
      "48/48 [==============================] - 20s 420ms/step - loss: 1.1323 - val_loss: 1.1640\n"
     ]
    },
    {
     "data": {
      "text/plain": [
       "<keras.callbacks.History at 0x7f81d4549b70>"
      ]
     },
     "execution_count": 4,
     "metadata": {},
     "output_type": "execute_result"
    }
   ],
   "source": [
    "#This model shows encoded signals\n",
    "encoder = Model(input_layer, encoded)\n",
    "# Creating a decoder model\n",
    "encoded_input = Input(shape=(8,))\n",
    "# last layer of the autoencoder model\n",
    "decoder_layer = autoencoder.layers[-4]\n",
    "# decoder model\n",
    "decoder = Model(encoded_input, decoder_layer(encoded_input))\n",
    "#optimizer\n",
    "opt = keras.optimizers.Adam(learning_rate=0.0001)\n",
    "\n",
    "autoencoder.compile(optimizer=opt, loss='mse')\n",
    "\n",
    "autoencoder.fit(ys, ys,\n",
    "                epochs=3,\n",
    "                batch_size=100,\n",
    "                validation_split=0.05)"
   ]
  },
  {
   "cell_type": "code",
   "execution_count": 5,
   "metadata": {},
   "outputs": [],
   "source": [
    "# encoding the sample signal ys and test signal yo\n",
    "encoded_ys = encoder.predict(ys)\n",
    "encoded_yo = encoder.predict(yo)"
   ]
  },
  {
   "attachments": {},
   "cell_type": "markdown",
   "metadata": {},
   "source": [
    "#### Adding nominal level as an input"
   ]
  },
  {
   "cell_type": "code",
   "execution_count": 6,
   "metadata": {},
   "outputs": [],
   "source": [
    "# set test nominal level at 80%,85%,90%,95%\n",
    "nominalo=np.array(np.arange(0.80,1,0.05))\n",
    "\n",
    "# trainset build\n",
    "encoded_yo_total = np.repeat(encoded_yo,4,axis=0)\n",
    "\n",
    "scaler =StandardScaler() #normalization\n",
    "\n",
    "y_sample=np.concatenate((nominal_sample.reshape(-1,1), encoded_ys),axis=1) \n",
    "ys_encoder_s=scaler.fit_transform(y_sample)\n",
    "\n",
    "# test signal\n",
    "y_acc0=np.concatenate((nominalo.reshape(-1,1),encoded_yo_total),axis=1)\n",
    "yo_encoder_s=scaler.transform(y_acc0) #noramlization"
   ]
  },
  {
   "attachments": {},
   "cell_type": "markdown",
   "metadata": {},
   "source": [
    "### Classifier training\n",
    "To make it simple, we used one-layer neural network with a sigmoid activation function here, actually, a logistic classifier."
   ]
  },
  {
   "cell_type": "code",
   "execution_count": 7,
   "metadata": {},
   "outputs": [
    {
     "data": {
      "text/plain": [
       "array([[0.40923364, 0.59076636],\n",
       "       [0.31717397, 0.68282603],\n",
       "       [0.23749817, 0.76250183],\n",
       "       [0.17277304, 0.82722696]])"
      ]
     },
     "execution_count": 7,
     "metadata": {},
     "output_type": "execute_result"
    }
   ],
   "source": [
    "# using sklearn to train classifier directly\n",
    "from sklearn.linear_model import LogisticRegression\n",
    "from sklearn.model_selection import cross_validate\n",
    "\n",
    "clf = LogisticRegression().fit(ys_encoder_s, c)\n",
    "\n",
    "### the realised operational coverage estimation for test signal with 80%,85%,90%,95% nominal levels\n",
    "clf.predict_proba(yo_encoder_s)"
   ]
  },
  {
   "attachments": {},
   "cell_type": "markdown",
   "metadata": {},
   "source": [
    "#### another way to do logistic regression to ouput the estimation interval"
   ]
  },
  {
   "cell_type": "code",
   "execution_count": 8,
   "metadata": {},
   "outputs": [
    {
     "name": "stdout",
     "output_type": "stream",
     "text": [
      "Optimization terminated successfully.\n",
      "         Current function value: 0.581121\n",
      "         Iterations 5\n",
      "[0.59063848 0.68280443 0.76256148 0.82733536]\n",
      "[0.61810663 0.70176231 0.77995616 0.84629186]\n",
      "[0.56317033 0.66384655 0.7451668  0.80837887]\n"
     ]
    }
   ],
   "source": [
    "import statsmodels.api as sm\n",
    "X=sm.add_constant(ys_encoder_s)\n",
    "cons=np.repeat(1.0,4)\n",
    "Xo=np.concatenate((cons.reshape(-1,1),yo_encoder_s),axis=1)\n",
    "# estimate the model\n",
    "model = sm.Logit(c, X).fit()\n",
    "\n",
    "proba=model.predict(Xo)\n",
    "print(proba)\n",
    "\n",
    "# estimation interval\n",
    "# to estimate the prediction intercal, the delta method is applied to find approximate variance for predicted probability\n",
    "# https://stackoverflow.com/questions/47414842/confidence-interval-of-probability-prediction-from-logistic-regression-statsmode\n",
    "cov = model.cov_params()\n",
    "gradient = (proba * (1 - proba) * Xo.T).T # matrix of gradients for each observation\n",
    "# gradient is the vector of derivatives of predicted probability by model coefficients\n",
    "# cov is the covariance matrix of coefficients\n",
    "std_errors = np.array([np.sqrt(np.dot(np.dot(g, cov), g)) for g in gradient])\n",
    "c = 1.96 # multiplier for confidence interval\n",
    "upper = np.maximum(0, np.minimum(1, proba + std_errors * c))\n",
    "lower = np.maximum(0, np.minimum(1, proba - std_errors * c))\n",
    "\n",
    "print(upper)\n",
    "print(lower)"
   ]
  },
  {
   "cell_type": "code",
   "execution_count": 9,
   "metadata": {},
   "outputs": [],
   "source": [
    "import pickle\n",
    "# save it to a file\n",
    "with open('classifier.pkl', 'wb') as f:\n",
    "    pickle.dump(clf, f)"
   ]
  },
  {
   "cell_type": "code",
   "execution_count": 14,
   "metadata": {},
   "outputs": [],
   "source": [
    "with open('scaler.pkl', 'wb') as f:\n",
    "    pickle.dump(scaler, f)"
   ]
  },
  {
   "cell_type": "code",
   "execution_count": 15,
   "metadata": {},
   "outputs": [],
   "source": [
    "np.save(\"./yo_encoder_s.npy\",yo_encoder_s)"
   ]
  },
  {
   "attachments": {},
   "cell_type": "markdown",
   "metadata": {},
   "source": [
    "### The evaluation at the test signal $d_{o}$"
   ]
  },
  {
   "cell_type": "code",
   "execution_count": 16,
   "metadata": {},
   "outputs": [
    {
     "data": {
      "text/plain": [
       "([<matplotlib.axis.XTick at 0x7f84106c2278>,\n",
       "  <matplotlib.axis.XTick at 0x7f84106b8e10>,\n",
       "  <matplotlib.axis.XTick at 0x7f841066a7b8>,\n",
       "  <matplotlib.axis.XTick at 0x7f8410619c50>],\n",
       " [Text(0, 0, ''), Text(0, 0, ''), Text(0, 0, ''), Text(0, 0, '')])"
      ]
     },
     "execution_count": 16,
     "metadata": {},
     "output_type": "execute_result"
    },
    {
     "data": {
      "image/png": "[encoded data removed]",
      "text/plain": [
       "<Figure size 576x360 with 1 Axes>"
      ]
     },
     "metadata": {
      "needs_background": "light"
     },
     "output_type": "display_data"
    }
   ],
   "source": [
    "exact_ratio=np.load(\"./exact_ratio for test signal.npy\")\n",
    "# save the results\n",
    "result=np.zeros((4,5))\n",
    "result[:,0]=nominalo\n",
    "result[:,1]=proba\n",
    "result[:,2]=upper\n",
    "result[:,3]=lower\n",
    "result[:,4]=exact_ratio\n",
    "\n",
    "import pandas as pd\n",
    "\n",
    "df_do = pd.DataFrame(result, columns = ['nominal','predict_coverage','upper','lower','realised'])\n",
    "\n",
    "plt.rcParams[\"figure.figsize\"] = (8,5)\n",
    "df_do.plot(x=\"nominal\",style=['s-','o-','^-',\"--\"])\n",
    "plt.ylabel('practical operational coverage',fontsize=16)\n",
    "plt.xlabel(r\"$\\alpha$\",fontsize=16)\n",
    "plt.xticks([0.80,0.85,0.90,0.95])"
   ]
  },
  {
   "cell_type": "code",
   "execution_count": null,
   "metadata": {},
   "outputs": [],
   "source": []
  }
 ],
 "metadata": {
  "kernelspec": {
   "display_name": "Python 3",
   "language": "python",
   "name": "python3"
  },
  "language_info": {
   "codemirror_mode": {
    "name": "ipython",
    "version": 3
   },
   "file_extension": ".py",
   "mimetype": "text/x-python",
   "name": "python",
   "nbconvert_exporter": "python",
   "pygments_lexer": "ipython3",
   "version": "3.6.9"
  }
 },
 "nbformat": 4,
 "nbformat_minor": 2
}
