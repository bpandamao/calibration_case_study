{
 "cells": [
  {
   "attachments": {},
   "cell_type": "markdown",
   "metadata": {},
   "source": [
    "### The realised operational coverage estimation\n",
    "\n",
    "As the likelihood $\\tilde{p}(d_o|\\boldsymbol{\\theta})$ of the approximate posterior does not correspond to the generative model, its level $\\alpha$ credible set $\\widetilde{C}_{d_o}$ does not achieve the nominal level $\\alpha$, an \"operational\" coverage probability is defined.\n",
    "\n",
    "$b(d_o)= P(\\boldsymbol{\\theta} \\in \\widetilde{C}_{d_o}) = \\displaystyle\\int  \\unicode{x1D7D9}_{\\widetilde{C}_{d_o}}(\\boldsymbol{\\theta})p(\\boldsymbol{\\theta}|d_o) \\text{d}\\boldsymbol{\\theta}$\n",
    "\n",
    "which is not generally equal to the nominal coverage, $\\alpha$.\n",
    "\n",
    "In practice, we often generate samples from the approximate posterior $\\tilde{p}(\\boldsymbol{\\theta}|d_o)$ using MCMC and estimate $\\widetilde{C}_{d_o}$. If we denote this estimator of $\\widetilde{C}_{d_o}$ by $\\widehat{C}_{d_o}$, we get the realised operational coverage probability\n",
    "\n",
    "$b_r(d_o)= P(\\boldsymbol{\\theta} \\in \\widehat{C}_{d_o})$ \n",
    "\n",
    "For the test signal $d_{o}$:\n",
    "1. Based on the MCMC, obtain the exact posterior samples $p(\\boldsymbol{\\theta}|d_o)$ and approximate credible intervals $\\widehat{C}_{d_o}$\n",
    "2. The realised operational coverage probability can be estimated by calculating the proportion of the samples that are inside credible intervals $\\widehat{C}_{d_o}$."
   ]
  },
  {
   "cell_type": "code",
   "execution_count": 1,
   "metadata": {},
   "outputs": [
    {
     "data": {
      "text/plain": [
       "array([0.611 , 0.6725, 0.7495, 0.8375])"
      ]
     },
     "execution_count": 1,
     "metadata": {},
     "output_type": "execute_result"
    }
   ],
   "source": [
    "import numpy as np\n",
    "from utils import FFT, freq_PSD, inner_prod, waveform\n",
    "from mcmc_fun_fdot import MCMC_run\n",
    "\n",
    "np.random.seed(2023)\n",
    "#----------------------------------------------------\n",
    "###\n",
    "# step 1\n",
    "###\n",
    "#Set true parameter\n",
    "#we want to estimate it using MCMC\n",
    "#----------------------------------------------------\n",
    "\n",
    "fdot_true = 1e-8\n",
    "\n",
    "# basic settings\n",
    "tmax =  120*60*60                 # Final time\n",
    "fs = 2*1e-3                       # Sampling rate\n",
    "delta_t = np.floor(0.01/fs)       # Sampling interval \n",
    "t = np.arange(0,tmax,delta_t)     # Form time vector from t0 = 0 to t_{n-1} = tmax. Length N [include zero]\n",
    "N_t = int(2**(np.ceil(np.log2(len(t)))))   # Round length of time series to a power of two \n",
    "                                           # Length of time series\n",
    "\n",
    "#----------------------------------------------------\n",
    "###\n",
    "# step 2\n",
    "###\n",
    "# generate signal\n",
    "#----------------------------------------------------\n",
    "h_true_f = FFT(waveform(fdot_true,t))  # Compute true signal in frequency domain\n",
    "\n",
    "freq,PSD = freq_PSD(t,delta_t)  # Extract frequency bins and PSD.\n",
    "\n",
    "data_f = h_true_f    # Construct data stream d_{o}, test signal without noise\n",
    "\n",
    "# This is the inputs d_{j}\n",
    "data_y = data_f.real # only use real parts\n",
    "                    \n",
    "\n",
    "#----------------------------------------------------\n",
    "###\n",
    "# step 3\n",
    "###\n",
    "# MCMC - parameter estimation\n",
    "#----------------------------------------------------\n",
    "\n",
    "\n",
    "Ntotal = 21000  # Total number of iterations\n",
    "burnin = 1000   # Set burn-in. This is the amount of samples we will discard whilst looking \n",
    "            # for the true parameters\n",
    "\n",
    "variance_noise_f = N_t * PSD / (4 * delta_t)\n",
    "\n",
    "delta_dotf = np.sqrt(1.007508992696005e-27)\n",
    "\n",
    "fdot_start = fdot_true - 250*delta_dotf  # Starting values\n",
    "\n",
    "fdot_chain,lp  = MCMC_run(data_f,t,0,variance_noise_f,\n",
    "                            Ntotal, burnin, fdot_start,\n",
    "                            printerval = 5000, save_interval = 50, \n",
    "                            fdot_var_prop = delta_dotf**2) \n",
    "\n",
    "fdot_chain_est,lp_est  = MCMC_run(data_f,t,1e-6, variance_noise_f,\n",
    "                            Ntotal, burnin, fdot_start,\n",
    "                            printerval = 5000, save_interval = 50, \n",
    "                            fdot_var_prop = delta_dotf**2)\n",
    "\n",
    "\n",
    "\n",
    "sample1=fdot_chain_est[burnin::10]\n",
    "sample0=fdot_chain[burnin::10]\n",
    "\n",
    "#-----------------------------------------------------------------\n",
    "###\n",
    "# step 4\n",
    "###\n",
    "# calculate the proportion of the samples that are \n",
    "# inside credible intervals made by MCMC with approximate waveform\n",
    "#-----------------------------------------------------------------\n",
    "\n",
    "# hard code is not good\n",
    "a95=0\n",
    "a90=0\n",
    "a85=0\n",
    "a80=0\n",
    "n=0\n",
    "for i in range(sample0.shape[0]):\n",
    "    n=n+1\n",
    "    if sample0[i]>=np.percentile(sample1,[2.5,97.5])[0] and sample0[i]<=np.percentile(sample1,[2.5,97.5])[1]:\n",
    "        a95=a95+1\n",
    "    if sample0[i]>=np.percentile(sample1,[5,95])[0] and sample0[i]<=np.percentile(sample1,[5,95])[1]:\n",
    "        a90=a90+1\n",
    "    if sample0[i]>=np.percentile(sample1,[7.5,92.5])[0] and sample0[i]<=np.percentile(sample1,[7.5,92.5])[1]:\n",
    "        a85=a85+1\n",
    "    if sample0[i]>=np.percentile(sample1,[10,90])[0] and sample0[i]<=np.percentile(sample1,[10,90])[1]:\n",
    "        a80=a80+1\n",
    "exact_ratio=np.array([a80,a85,a90,a95])/n\n",
    "\n",
    "exact_ratio\n"
   ]
  },
  {
   "attachments": {},
   "cell_type": "markdown",
   "metadata": {},
   "source": [
    "For the test signal $d_{o}$, `exact_ratio` is the realised operational coverage for nominal level at 0.8,0.85,0.9,0.95, which is also considered as the true value of the operational coverage estimator."
   ]
  },
  {
   "cell_type": "code",
   "execution_count": 3,
   "metadata": {},
   "outputs": [],
   "source": [
    "np.save(\"./exact_ratio for test signal.npy\",exact_ratio)\n",
    "np.save(\"./fdot_chain_est for test signal.npy\",fdot_chain_est)\n",
    "np.save(\"./fdot_chain for test signal.npy\",fdot_chain)"
   ]
  }
 ],
 "metadata": {
  "kernelspec": {
   "display_name": "Python 3",
   "language": "python",
   "name": "python3"
  },
  "language_info": {
   "codemirror_mode": {
    "name": "ipython",
    "version": 3
   },
   "file_extension": ".py",
   "mimetype": "text/x-python",
   "name": "python",
   "nbconvert_exporter": "python",
   "pygments_lexer": "ipython3",
   "version": "3.6.9"
  }
 },
 "nbformat": 4,
 "nbformat_minor": 2
}
